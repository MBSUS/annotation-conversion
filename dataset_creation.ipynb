{
 "cells": [
  {
   "cell_type": "code",
   "execution_count": 1,
   "metadata": {},
   "outputs": [],
   "source": [
    "import os\n",
    "import cv2\n",
    "import numpy as np\n",
    "import pandas as pd"
   ]
  },
  {
   "cell_type": "code",
   "execution_count": 14,
   "metadata": {},
   "outputs": [
    {
     "output_type": "stream",
     "name": "stdout",
     "text": [
      "folder done\n",
      "folder done\n",
      "folder done\n",
      "folder done\n",
      "folder done\n",
      "folder done\n",
      "folder done\n",
      "folder done\n",
      "folder done\n",
      "folder done\n",
      "folder done\n",
      "folder done\n",
      "folder done\n",
      "folder done\n",
      "folder done\n",
      "folder done\n",
      "folder done\n"
     ]
    }
   ],
   "source": [
    "for study in os.listdir(\"Studies/\"):\n",
    "    if not study.endswith(\"-0\"):\n",
    "        for orientation in os.listdir(\"Studies/\"+study+\"/\"):\n",
    "            for folder in os.listdir(\"Studies/\"+study+\"/\"+orientation+\"/\"):\n",
    "                if folder == \"anno\":\n",
    "                    df = pd.read_csv(\"Studies/\"+study+\"/\"+orientation+\"/\"+folder+\"/gTruth.csv\").dropna().reset_index().drop(columns=\"index\")\n",
    "                    df[\"PixelLabelData\"] = df[\"PixelLabelData\"].map(lambda path: \"/\".join([\"Studies\"]+path.split(\"/\")[-5:]))\n",
    "                    df[\"OriginalData\"] = \"\"\n",
    "                    try:\n",
    "                        os.mkdir(\"Studies/\"+study+\"/\"+orientation+\"/\"+folder+\"/OriginalData/\")\n",
    "                        vidcap = cv2.VideoCapture(\"Studies/\"+study+\"/\"+orientation+\"/clip/\"+orientation+\".mp4\")\n",
    "                        for i in range(len(df)):\n",
    "                            name = df.at[i, 'PixelLabelData'].split(\"/\")[-1]\n",
    "                            time = round(float(df.at[i, 'Time'].split(\" \")[0])*1000)\n",
    "                            vidcap.set(cv2.CAP_PROP_POS_MSEC, time)\n",
    "                            success,image = vidcap.read()\n",
    "                            if success:\n",
    "                                cv2.imwrite(\"Studies/\"+study+\"/\"+orientation+\"/\"+folder+\"/OriginalData/\"+name, image)\n",
    "                                df.at[i, \"OriginalData\"] = \"Studies/\"+study+\"/\"+orientation+\"/\"+folder+\"/OriginalData/\"+name\n",
    "                        df = df.replace('', np.nan).dropna().reset_index().drop(columns=\"index\")\n",
    "                        df.to_csv(\"Studies/\"+study+\"/\"+orientation+\"/\"+\"data.csv\", index=False)\n",
    "                    except:\n",
    "                        print(\"folder done\")\n",
    "    else:\n",
    "        for orientation in os.listdir(\"Studies/\"+study+\"/\"):\n",
    "            for folder in os.listdir(\"Studies/\"+study+\"/\"+orientation+\"/\"):\n",
    "                if folder == \"anno\":\n",
    "                    df = pd.read_csv(\"Studies/\"+study+\"/\"+orientation+\"/\"+folder+\"/gTruth.csv\").dropna().reset_index().drop(columns=\"index\")\n",
    "                    df[\"PixelLabelData\"] = df[\"PixelLabelData\"].map(lambda path: \"/\".join([\"Studies\"]+path.split(\"\\\\\")[-5:]))\n",
    "                    df[\"OriginalData\"] = \"\"\n",
    "                    try:\n",
    "                        os.mkdir(\"Studies/\"+study+\"/\"+orientation+\"/\"+folder+\"/OriginalData/\")\n",
    "                        vidcap = cv2.VideoCapture(\"Studies/\"+study+\"/\"+orientation+\"/clip/\"+orientation+\".mp4\")\n",
    "                        for i in range(len(df)):\n",
    "                            name = df.at[i, 'PixelLabelData'].split(\"/\")[-1]\n",
    "                            time = round(float(df.at[i, 'Time'].split(\" \")[0])*1000)\n",
    "                            vidcap.set(cv2.CAP_PROP_POS_MSEC, time)\n",
    "                            success,image = vidcap.read()\n",
    "                            if success:\n",
    "                                cv2.imwrite(\"Studies/\"+study+\"/\"+orientation+\"/\"+folder+\"/OriginalData/\"+name, image)\n",
    "                                df.at[i, \"OriginalData\"] = \"Studies/\"+study+\"/\"+orientation+\"/\"+folder+\"/OriginalData/\"+name\n",
    "                        df = df.replace('', np.nan).dropna().reset_index().drop(columns=\"index\")\n",
    "                        df.to_csv(\"Studies/\"+study+\"/\"+orientation+\"/\"+\"data.csv\", index=False)\n",
    "                    except:\n",
    "                        print(\"folder done\")"
   ]
  },
  {
   "cell_type": "code",
   "execution_count": 15,
   "metadata": {},
   "outputs": [],
   "source": [
    "finaldf = []\n",
    "for study in os.listdir(\"Studies/\"):\n",
    "    for orientation in os.listdir(\"Studies/\"+study+\"/\"):\n",
    "        for fsobject in os.listdir(\"Studies/\"+study+\"/\"+orientation+\"/\"):\n",
    "            if fsobject == \"data.csv\":\n",
    "                df = pd.read_csv(\"Studies/\"+study+\"/\"+orientation+\"/\"+fsobject)\n",
    "                finaldf.append(df)\n",
    "finaldf = pd.concat(finaldf, ignore_index=True)\n",
    "finaldf.to_csv(\"dataset.csv\", index=False)"
   ]
  },
  {
   "cell_type": "code",
   "execution_count": 16,
   "metadata": {},
   "outputs": [],
   "source": [
    "dataset = pd.read_csv(\"dataset.csv\")\n",
    "for i in range(len(dataset)):\n",
    "        image = cv2.imread(dataset.at[i, 'OriginalData'], cv2.IMREAD_GRAYSCALE)\n",
    "        mask = cv2.imread(dataset.at[i, 'PixelLabelData'], cv2.IMREAD_GRAYSCALE)\n",
    "        if (sum(sum(mask)) > 0):\n",
    "            (thresh, im_bw) = cv2.threshold(mask, 128, 255, cv2.THRESH_BINARY | cv2.THRESH_OTSU)\n",
    "            cv2.addWeighted(im_bw, 0.7, image, 1, 0, image)\n",
    "            filename = dataset.at[i, 'OriginalData'].split(\"/\")[-1].split(\".\")[0]\n",
    "            path = \"/\".join(dataset.at[i, 'OriginalData'].split(\"/\")[:3])+\"/visualizations\"\n",
    "            try:\n",
    "                os.mkdir(path)\n",
    "                cv2.imwrite(path+\"/\"+filename+\"_masked.png\", image)\n",
    "            except:\n",
    "                cv2.imwrite(path+\"/\"+filename+\"_masked.png\", image)"
   ]
  },
  {
   "cell_type": "code",
   "execution_count": 17,
   "metadata": {},
   "outputs": [],
   "source": [
    "dataset = pd.read_csv(\"dataset.csv\")\n",
    "train_split = 0.8\n",
    "try:\n",
    "    os.mkdir(\"data/\")    \n",
    "    os.mkdir(\"data/train/\")\n",
    "    os.mkdir(\"data/train/images\")\n",
    "    os.mkdir(\"data/train/masks\")\n",
    "    os.mkdir(\"data/val/\")\n",
    "    os.mkdir(\"data/val/images\")\n",
    "    os.mkdir(\"data/val/masks\")\n",
    "    for i in range(len(dataset)):\n",
    "        image = cv2.imread(dataset.at[i, 'OriginalData'])\n",
    "        mask = cv2.imread(dataset.at[i, 'PixelLabelData'], cv2.IMREAD_GRAYSCALE)\n",
    "        if (sum(sum(mask)) > 0):\n",
    "            p = np.random.random()\n",
    "            if (p <= train_split):\n",
    "                cv2.imwrite(\"data/train/images/\"+str(i)+\".png\", image)\n",
    "                cv2.imwrite(\"data/train/masks/\"+str(i)+\".png\", mask)\n",
    "            else:\n",
    "                cv2.imwrite(\"data/val/images/\"+str(i)+\".png\", image)\n",
    "                cv2.imwrite(\"data/val/masks/\"+str(i)+\".png\", mask)\n",
    "except:\n",
    "    for i in range(len(dataset)):\n",
    "        image = cv2.imread(dataset.at[i, 'OriginalData'])\n",
    "        mask = cv2.imread(dataset.at[i, 'PixelLabelData'], cv2.IMREAD_GRAYSCALE)\n",
    "        if (sum(sum(mask)) > 0):\n",
    "            p = np.random.random()\n",
    "            if (p <= train_split):\n",
    "                cv2.imwrite(\"data/train/images/\"+str(i)+\".png\", image)\n",
    "                cv2.imwrite(\"data/train/masks/\"+str(i)+\".png\", mask)\n",
    "            else:\n",
    "                cv2.imwrite(\"data/val/images/\"+str(i)+\".png\", image)\n",
    "                cv2.imwrite(\"data/val/masks/\"+str(i)+\".png\", mask)"
   ]
  },
  {
   "cell_type": "code",
   "execution_count": null,
   "metadata": {},
   "outputs": [],
   "source": []
  }
 ],
 "metadata": {
  "kernelspec": {
   "name": "python386jvsc74a57bd031f2aee4e71d21fbe5cf8b01ff0e069b9275f58929596ceb00d14d90e3e16cd6",
   "display_name": "Python 3.8.6 64-bit"
  },
  "language_info": {
   "codemirror_mode": {
    "name": "ipython",
    "version": 3
   },
   "file_extension": ".py",
   "mimetype": "text/x-python",
   "name": "python",
   "nbconvert_exporter": "python",
   "pygments_lexer": "ipython3",
   "version": "3.8.6"
  },
  "metadata": {
   "interpreter": {
    "hash": "916dbcbb3f70747c44a77c7bcd40155683ae19c65e1c03b4aa3499c5328201f1"
   }
  }
 },
 "nbformat": 4,
 "nbformat_minor": 4
}