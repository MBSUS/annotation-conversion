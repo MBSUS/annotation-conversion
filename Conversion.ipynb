{
 "metadata": {
  "language_info": {
   "codemirror_mode": {
    "name": "ipython",
    "version": 3
   },
   "file_extension": ".py",
   "mimetype": "text/x-python",
   "name": "python",
   "nbconvert_exporter": "python",
   "pygments_lexer": "ipython3",
   "version": "3.8.6-final"
  },
  "orig_nbformat": 2,
  "kernelspec": {
   "name": "python3",
   "display_name": "Python 3.8.6 64-bit",
   "metadata": {
    "interpreter": {
     "hash": "31f2aee4e71d21fbe5cf8b01ff0e069b9275f58929596ceb00d14d90e3e16cd6"
    }
   }
  }
 },
 "nbformat": 4,
 "nbformat_minor": 2,
 "cells": [
  {
   "cell_type": "code",
   "execution_count": 21,
   "metadata": {},
   "outputs": [],
   "source": [
    "import os\n",
    "import matlab.engine"
   ]
  },
  {
   "cell_type": "code",
   "execution_count": null,
   "metadata": {},
   "outputs": [],
   "source": [
    "matlab_engine = matlab.engine.start_matlab()"
   ]
  },
  {
   "cell_type": "code",
   "execution_count": 15,
   "metadata": {},
   "outputs": [
    {
     "output_type": "stream",
     "name": "stdout",
     "text": [
      "{'__header__': b'MATLAB 5.0 MAT-file, Platform: MACI64, Created on: Tue Feb  2 21:48:00 2021', '__version__': '1.0', '__globals__': [], 'None': MatlabOpaque([(b'gTruth', b'MCOS', b'groundTruth', array([[3707764736],\n       [         2],\n       [         1],\n       [         1],\n       [         1],\n       [         5]], dtype=uint32))],\n             dtype=[('s0', 'O'), ('s1', 'O'), ('s2', 'O'), ('arr', 'O')]), '__function_workspace__': array([[ 0,  1, 73, ...,  0,  0,  0]], dtype=uint8)}\n{'__header__': b'MATLAB 5.0 MAT-file, Platform: MACI64, Created on: Tue Feb  2 21:34:48 2021', '__version__': '1.0', '__globals__': [], 'None': MatlabOpaque([(b'gTruth', b'MCOS', b'groundTruth', array([[3707764736],\n       [         2],\n       [         1],\n       [         1],\n       [         1],\n       [         5]], dtype=uint32))],\n             dtype=[('s0', 'O'), ('s1', 'O'), ('s2', 'O'), ('arr', 'O')]), '__function_workspace__': array([[ 0,  1, 73, ...,  0,  0,  0]], dtype=uint8)}\n{'__header__': b'MATLAB 5.0 MAT-file, Platform: MACI64, Created on: Tue Jan 26 16:58:57 2021', '__version__': '1.0', '__globals__': [], 'None': MatlabOpaque([(b'gTruth', b'MCOS', b'groundTruth', array([[3707764736],\n       [         2],\n       [         1],\n       [         1],\n       [         1],\n       [         5]], dtype=uint32))],\n             dtype=[('s0', 'O'), ('s1', 'O'), ('s2', 'O'), ('arr', 'O')]), '__function_workspace__': array([[ 0,  1, 73, ...,  0,  0,  0]], dtype=uint8)}\n{'__header__': b'MATLAB 5.0 MAT-file, Platform: MACI64, Created on: Mon Feb  1 23:03:32 2021', '__version__': '1.0', '__globals__': [], 'None': MatlabOpaque([(b'gTruth', b'MCOS', b'groundTruth', array([[3707764736],\n       [         2],\n       [         1],\n       [         1],\n       [         1],\n       [         5]], dtype=uint32))],\n             dtype=[('s0', 'O'), ('s1', 'O'), ('s2', 'O'), ('arr', 'O')]), '__function_workspace__': array([[ 0,  1, 73, ...,  0,  0,  0]], dtype=uint8)}\n{'__header__': b'MATLAB 5.0 MAT-file, Platform: MACI64, Created on: Mon Feb  1 22:53:59 2021', '__version__': '1.0', '__globals__': [], 'None': MatlabOpaque([(b'gTruth', b'MCOS', b'groundTruth', array([[3707764736],\n       [         2],\n       [         1],\n       [         1],\n       [         1],\n       [         5]], dtype=uint32))],\n             dtype=[('s0', 'O'), ('s1', 'O'), ('s2', 'O'), ('arr', 'O')]), '__function_workspace__': array([[ 0,  1, 73, ...,  0,  0,  0]], dtype=uint8)}\n{'__header__': b'MATLAB 5.0 MAT-file, Platform: MACI64, Created on: Tue Feb  2 00:18:05 2021', '__version__': '1.0', '__globals__': [], 'None': MatlabOpaque([(b'gTruth', b'MCOS', b'groundTruth', array([[3707764736],\n       [         2],\n       [         1],\n       [         1],\n       [         1],\n       [         5]], dtype=uint32))],\n             dtype=[('s0', 'O'), ('s1', 'O'), ('s2', 'O'), ('arr', 'O')]), '__function_workspace__': array([[ 0,  1, 73, ...,  0,  0,  0]], dtype=uint8)}\n{'__header__': b'MATLAB 5.0 MAT-file, Platform: MACI64, Created on: Tue Feb  2 00:15:19 2021', '__version__': '1.0', '__globals__': [], 'None': MatlabOpaque([(b'gTruth', b'MCOS', b'groundTruth', array([[3707764736],\n       [         2],\n       [         1],\n       [         1],\n       [         1],\n       [         5]], dtype=uint32))],\n             dtype=[('s0', 'O'), ('s1', 'O'), ('s2', 'O'), ('arr', 'O')]), '__function_workspace__': array([[ 0,  1, 73, ...,  0,  0,  0]], dtype=uint8)}\n{'__header__': b'MATLAB 5.0 MAT-file, Platform: MACI64, Created on: Mon Feb  1 23:55:25 2021', '__version__': '1.0', '__globals__': [], 'None': MatlabOpaque([(b'gTruth', b'MCOS', b'groundTruth', array([[3707764736],\n       [         2],\n       [         1],\n       [         1],\n       [         1],\n       [         5]], dtype=uint32))],\n             dtype=[('s0', 'O'), ('s1', 'O'), ('s2', 'O'), ('arr', 'O')]), '__function_workspace__': array([[ 0,  1, 73, ...,  0,  0,  0]], dtype=uint8)}\n{'__header__': b'MATLAB 5.0 MAT-file, Platform: MACI64, Created on: Mon Feb  1 23:20:04 2021', '__version__': '1.0', '__globals__': [], 'None': MatlabOpaque([(b'gTruth', b'MCOS', b'groundTruth', array([[3707764736],\n       [         2],\n       [         1],\n       [         1],\n       [         1],\n       [         5]], dtype=uint32))],\n             dtype=[('s0', 'O'), ('s1', 'O'), ('s2', 'O'), ('arr', 'O')]), '__function_workspace__': array([[ 0,  1, 73, ...,  0,  0,  0]], dtype=uint8)}\n{'__header__': b'MATLAB 5.0 MAT-file, Platform: MACI64, Created on: Mon Feb  1 23:33:54 2021', '__version__': '1.0', '__globals__': [], 'None': MatlabOpaque([(b'gTruth', b'MCOS', b'groundTruth', array([[3707764736],\n       [         2],\n       [         1],\n       [         1],\n       [         1],\n       [         5]], dtype=uint32))],\n             dtype=[('s0', 'O'), ('s1', 'O'), ('s2', 'O'), ('arr', 'O')]), '__function_workspace__': array([[ 0,  1, 73, ...,  0,  0,  0]], dtype=uint8)}\n{'__header__': b'MATLAB 5.0 MAT-file, Platform: MACI64, Created on: Mon Feb  1 23:28:40 2021', '__version__': '1.0', '__globals__': [], 'None': MatlabOpaque([(b'gTruth', b'MCOS', b'groundTruth', array([[3707764736],\n       [         2],\n       [         1],\n       [         1],\n       [         1],\n       [         5]], dtype=uint32))],\n             dtype=[('s0', 'O'), ('s1', 'O'), ('s2', 'O'), ('arr', 'O')]), '__function_workspace__': array([[ 0,  1, 73, ...,  0,  0,  0]], dtype=uint8)}\n{'__header__': b'MATLAB 5.0 MAT-file, Platform: MACI64, Created on: Mon Feb  1 22:42:34 2021', '__version__': '1.0', '__globals__': [], 'None': MatlabOpaque([(b'gTruth', b'MCOS', b'groundTruth', array([[3707764736],\n       [         2],\n       [         1],\n       [         1],\n       [         1],\n       [         5]], dtype=uint32))],\n             dtype=[('s0', 'O'), ('s1', 'O'), ('s2', 'O'), ('arr', 'O')]), '__function_workspace__': array([[ 0,  1, 73, ...,  0,  0,  0]], dtype=uint8)}\n{'__header__': b'MATLAB 5.0 MAT-file, Platform: MACI64, Created on: Tue Feb  2 20:41:32 2021', '__version__': '1.0', '__globals__': [], 'None': MatlabOpaque([(b'gTruth', b'MCOS', b'groundTruth', array([[3707764736],\n       [         2],\n       [         1],\n       [         1],\n       [         1],\n       [         5]], dtype=uint32))],\n             dtype=[('s0', 'O'), ('s1', 'O'), ('s2', 'O'), ('arr', 'O')]), '__function_workspace__': array([[ 0,  1, 73, ...,  0,  0,  0]], dtype=uint8)}\n{'__header__': b'MATLAB 5.0 MAT-file, Platform: MACI64, Created on: Tue Feb  2 22:06:52 2021', '__version__': '1.0', '__globals__': [], 'None': MatlabOpaque([(b'gTruth', b'MCOS', b'groundTruth', array([[3707764736],\n       [         2],\n       [         1],\n       [         1],\n       [         1],\n       [         5]], dtype=uint32))],\n             dtype=[('s0', 'O'), ('s1', 'O'), ('s2', 'O'), ('arr', 'O')]), '__function_workspace__': array([[ 0,  1, 73, ...,  0,  0,  0]], dtype=uint8)}\n{'__header__': b'MATLAB 5.0 MAT-file, Platform: MACI64, Created on: Tue Feb  2 22:01:51 2021', '__version__': '1.0', '__globals__': [], 'None': MatlabOpaque([(b'gTruth', b'MCOS', b'groundTruth', array([[3707764736],\n       [         2],\n       [         1],\n       [         1],\n       [         1],\n       [         5]], dtype=uint32))],\n             dtype=[('s0', 'O'), ('s1', 'O'), ('s2', 'O'), ('arr', 'O')]), '__function_workspace__': array([[ 0,  1, 73, ...,  0,  0,  0]], dtype=uint8)}\n{'__header__': b'MATLAB 5.0 MAT-file, Platform: MACI64, Created on: Tue Feb  2 00:28:25 2021', '__version__': '1.0', '__globals__': [], 'None': MatlabOpaque([(b'gTruth', b'MCOS', b'groundTruth', array([[3707764736],\n       [         2],\n       [         1],\n       [         1],\n       [         1],\n       [         5]], dtype=uint32))],\n             dtype=[('s0', 'O'), ('s1', 'O'), ('s2', 'O'), ('arr', 'O')]), '__function_workspace__': array([[ 0,  1, 73, ...,  0,  0,  0]], dtype=uint8)}\n{'__header__': b'MATLAB 5.0 MAT-file, Platform: MACI64, Created on: Tue Feb  2 21:27:23 2021', '__version__': '1.0', '__globals__': [], 'None': MatlabOpaque([(b'gTruth', b'MCOS', b'groundTruth', array([[3707764736],\n       [         2],\n       [         1],\n       [         1],\n       [         1],\n       [         5]], dtype=uint32))],\n             dtype=[('s0', 'O'), ('s1', 'O'), ('s2', 'O'), ('arr', 'O')]), '__function_workspace__': array([[ 0,  1, 73, ...,  0,  0,  0]], dtype=uint8)}\n"
     ]
    }
   ],
   "source": [
    "for study in os.listdir('Studies/'):\n",
    "    for orientation in os.listdir('Studies/'+study+\"/\"):\n",
    "        for folder in os.listdir('Studies/'+study+\"/\"+orientation+\"/\"):\n",
    "            if folder == \"anno\":\n",
    "                data = sio.loadmat('Studies/'+study+\"/\"+orientation+\"/\"+folder+\"/gTruth.mat\")\n",
    "                print(data)"
   ]
  },
  {
   "cell_type": "code",
   "execution_count": 51,
   "metadata": {},
   "outputs": [
    {
     "output_type": "execute_result",
     "data": {
      "text/plain": [
       "{'gTruth': matlab.uint32([[3707764736],[2],[1],[1],[1],[5]])}"
      ]
     },
     "metadata": {},
     "execution_count": 51
    }
   ],
   "source": [
    "matlab_engine.load(\"Studies/010/LLS/anno/gTruth.mat\")"
   ]
  },
  {
   "cell_type": "code",
   "execution_count": null,
   "metadata": {},
   "outputs": [],
   "source": []
  }
 ]
}